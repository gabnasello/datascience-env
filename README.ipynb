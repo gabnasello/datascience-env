{
 "cells": [
  {
   "cell_type": "markdown",
   "id": "924dbd8e-88e9-4120-a927-74aa94bd2444",
   "metadata": {},
   "source": [
    "# 📦 Docker Image Information\n",
    "You are running this notebook inside a Docker container. To verify the image and version, run the following cell:"
   ]
  },
  {
   "cell_type": "code",
   "execution_count": null,
   "id": "a6c5c124-f813-4a0a-81af-c46e4a3429cb",
   "metadata": {},
   "outputs": [],
   "source": [
    "!echo \"🚀 Docker Image: ${DOCKER_IMAGE_NAME}:${VERSION}\""
   ]
  },
  {
   "cell_type": "markdown",
   "id": "13eb10f3-338d-4033-b6d5-0771c55ab8cd",
   "metadata": {},
   "source": [
    "✅ This helps ensure you're using the correct environment for reproducibility and collaboration."
   ]
  },
  {
   "cell_type": "markdown",
   "id": "484fabd8-f405-4cb6-918d-3f29a6ac8e0b",
   "metadata": {},
   "source": [
    "# 📁 Download Template Repository\n",
    "\n",
    "To get started with standardized data science workflows, you can clone the latest version of the **datascience-templates** repository. This repository contains ready-to-use templates for notebooks, scripts, and project organization.\n",
    "\n",
    "🔗 **Github Repository:** [gabnasello/datascience-templates](https://github.com/gabnasello/datascience-templates)\n",
    "\n",
    "Run the following cell to download it:"
   ]
  },
  {
   "cell_type": "code",
   "execution_count": null,
   "id": "a57d52d9-3dc6-4929-98ea-5e5a9e007066",
   "metadata": {},
   "outputs": [],
   "source": [
    "!git clone https://github.com/gabnasello/datascience-templates"
   ]
  },
  {
   "cell_type": "markdown",
   "id": "a4e0ec7b-fbbd-48fb-b61d-3739947d0556",
   "metadata": {},
   "source": [
    "> 💡 This will create a folder named `datascience-templates` in your current working directory. You can explore and adapt the templates to your project needs."
   ]
  }
 ],
 "metadata": {
  "kernelspec": {
   "display_name": "Python 3 (ipykernel)",
   "language": "python",
   "name": "python3"
  },
  "language_info": {
   "codemirror_mode": {
    "name": "ipython",
    "version": 3
   },
   "file_extension": ".py",
   "mimetype": "text/x-python",
   "name": "python",
   "nbconvert_exporter": "python",
   "pygments_lexer": "ipython3",
   "version": "3.13.7"
  }
 },
 "nbformat": 4,
 "nbformat_minor": 5
}
